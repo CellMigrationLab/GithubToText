{
  "nbformat": 4,
  "nbformat_minor": 0,
  "metadata": {
    "colab": {
      "provenance": []
    },
    "kernelspec": {
      "name": "python3",
      "display_name": "Python 3"
    },
    "language_info": {
      "name": "python"
    }
  },
  "cells": [
    {
      "cell_type": "code",
      "execution_count": 1,
      "metadata": {
        "id": "wPEysNxEehMz"
      },
      "outputs": [],
      "source": [
        "import os\n",
        "\n",
        "# Define the repository URL\n",
        "repo_url = \"https://github.com/CellMigrationLab/CellTracksColab\"  # Replace with your repository URL\n",
        "repo_name = \"CellTracksColab\"  # Name of the repository folder after cloning\n",
        "output_file_path = \"/content/CellTracksColab.txt\"  # Replace with your desired output file path on Google Drive\n",
        "preamble_file = None  # Replace with the path to your preamble file if any, or set to None\n",
        "\n"
      ]
    },
    {
      "cell_type": "code",
      "source": [
        "import os\n",
        "import fnmatch\n",
        "from google.colab import drive\n",
        "\n",
        "\n",
        "# Function to get the ignore list from a .gptignore file\n",
        "def get_ignore_list(ignore_file_path):\n",
        "    ignore_list = []\n",
        "    if os.path.exists(ignore_file_path):\n",
        "        with open(ignore_file_path, 'r') as ignore_file:\n",
        "            for line in ignore_file:\n",
        "                ignore_list.append(line.strip())\n",
        "    return ignore_list\n",
        "\n",
        "# Function to check if a file should be ignored based on the ignore list and .git exclusion\n",
        "def should_ignore(file_path, ignore_list):\n",
        "    # Exclude all files in the .git directory\n",
        "    if '.git' in file_path.split(os.sep):\n",
        "        return True\n",
        "    return any(fnmatch.fnmatch(file_path, pattern) for pattern in ignore_list)\n",
        "\n",
        "# Function to check if a file is an image based on its extension\n",
        "def is_image_file(file_name):\n",
        "    image_extensions = {'.png', '.jpg', '.jpeg', '.gif', '.bmp', '.tiff', '.tif', '.svg', '.webp', '.pdf'}\n",
        "    _, ext = os.path.splitext(file_name.lower())\n",
        "    return ext in image_extensions\n",
        "\n",
        "# Function to write a preamble to the output file\n",
        "def write_preamble(output_file, preamble_file=None):\n",
        "    if preamble_file and os.path.exists(preamble_file):\n",
        "        with open(preamble_file, 'r') as pf:\n",
        "            preamble_text = pf.read()\n",
        "            output_file.write(f\"{preamble_text}\\n\")\n",
        "    else:\n",
        "        output_file.write(\"The following text is a Git repository with code. The structure of the text begins with ----, followed by the file path and file name, then the file contents. The text ends with --END--.\\n\")\n",
        "\n",
        "# Function to write the README file content at the top of the output file\n",
        "def write_readme_at_top(repo_path, output_file):\n",
        "    for root, _, files in os.walk(repo_path):\n",
        "        for file in files:\n",
        "            if \"readme\" in file.lower():  # Check if the file is a README file\n",
        "                file_path = os.path.join(root, file)\n",
        "                with open(file_path, 'r', errors='ignore') as f:\n",
        "                    contents = f.read()\n",
        "                relative_file_path = os.path.relpath(file_path, repo_path)\n",
        "                output_file.write(\"----\\n\")\n",
        "                output_file.write(f\"{relative_file_path}\\n\")\n",
        "                output_file.write(f\"{contents}\\n\")\n",
        "                return  # We assume there is only one README file that we need to put at the top\n",
        "\n",
        "# Function to process the repository and write all non-image files to a single output file\n",
        "def process_repository(repo_path, ignore_list, output_file):\n",
        "    for root, _, files in os.walk(repo_path):\n",
        "        for file in files:\n",
        "            file_path = os.path.join(root, file)\n",
        "            relative_file_path = os.path.relpath(file_path, repo_path)\n",
        "\n",
        "            if not should_ignore(relative_file_path, ignore_list) and not is_image_file(file) and \"readme\" not in file.lower():\n",
        "                with open(file_path, 'r', errors='ignore') as f:\n",
        "                    contents = f.read()\n",
        "                output_file.write(\"----\\n\")\n",
        "                output_file.write(f\"{relative_file_path}\\n\")\n",
        "                output_file.write(f\"{contents}\\n\")\n",
        "\n",
        "# Function to append the end marker to the output file\n",
        "def finalize_output(output_file_path):\n",
        "    with open(output_file_path, 'a') as output_file:\n",
        "        output_file.write(\"--END--\\n\")\n",
        "\n",
        "# Clone the GitHub repository\n",
        "!git clone {repo_url} {repo_name}\n",
        "\n",
        "# Change the working directory to the cloned repository\n",
        "os.chdir(repo_name)\n",
        "\n",
        "# Get the ignore list from .gptignore\n",
        "ignore_file_path = os.path.join(repo_name, \".gptignore\")\n",
        "ignore_list = get_ignore_list(ignore_file_path)\n",
        "\n",
        "# Write the repository content to a single output file, with the README at the top\n",
        "with open(output_file_path, 'w') as output_file:\n",
        "    write_preamble(output_file, preamble_file)\n",
        "    write_readme_at_top(\".\", output_file)  # Write the README file at the top\n",
        "    process_repository(\".\", ignore_list, output_file)  # Process the rest of the repository\n",
        "    finalize_output(output_file_path)\n",
        "\n",
        "# Confirm the output file creation\n",
        "print(f\"Repository contents written to {output_file_path}.\")\n"
      ],
      "metadata": {
        "colab": {
          "base_uri": "https://localhost:8080/"
        },
        "id": "urGAUvQoeupc",
        "outputId": "fa37d992-a7c1-4121-874d-6f27dd368ff9"
      },
      "execution_count": 2,
      "outputs": [
        {
          "output_type": "stream",
          "name": "stdout",
          "text": [
            "Mounted at /content/drive\n",
            "Cloning into 'CellTracksColab'...\n",
            "remote: Enumerating objects: 1332, done.\u001b[K\n",
            "remote: Counting objects: 100% (708/708), done.\u001b[K\n",
            "remote: Compressing objects: 100% (343/343), done.\u001b[K\n",
            "remote: Total 1332 (delta 493), reused 510 (delta 364), pack-reused 624 (from 1)\u001b[K\n",
            "Receiving objects: 100% (1332/1332), 27.70 MiB | 20.26 MiB/s, done.\n",
            "Resolving deltas: 100% (839/839), done.\n",
            "Repository contents written to /content/CellTracksColab.txt.\n"
          ]
        }
      ]
    }
  ]
}